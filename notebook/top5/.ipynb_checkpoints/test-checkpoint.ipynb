{
 "cells": [
  {
   "cell_type": "code",
   "execution_count": null,
   "id": "29660f95",
   "metadata": {},
   "outputs": [],
   "source": [
    "print('here')"
   ]
  }
 ],
 "metadata": {
  "kernelspec": {
   "display_name": "Python stgnet",
   "language": "python",
   "name": "lxh-transfm"
  },
  "language_info": {
   "codemirror_mode": {
    "name": "ipython",
    "version": 3
   },
   "file_extension": ".py",
   "mimetype": "text/x-python",
   "name": "python",
   "nbconvert_exporter": "python",
   "pygments_lexer": "ipython3",
   "version": "3.7.16"
  }
 },
 "nbformat": 4,
 "nbformat_minor": 5
}
